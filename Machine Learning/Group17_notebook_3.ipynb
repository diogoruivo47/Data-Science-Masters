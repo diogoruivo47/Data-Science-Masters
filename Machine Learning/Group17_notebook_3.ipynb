{
 "cells": [
  {
   "cell_type": "markdown",
   "id": "3f2ec255-6ac8-4b68-bdb6-fc127d5563cb",
   "metadata": {},
   "source": [
    "# <center>Project of Machine Learning</center>\n",
    "\n",
    "<center>\n",
    "Master in Data Science and Advanced Analytics <br>\n",
    "NOVA Information Management School\n",
    "</center>\n",
    "\n",
    "** **\n",
    "## <center>*TO GRANT OR NOT TO GRANT: DECIDING ON COMPENSATION BENEFITS*</center>\n",
    "\n",
    "<center>\n",
    "Group 17 <br>\n",
    "Diogo Ruivo, 20240584  <br>\n",
    "José Tiago, 20240582  <br>\n",
    "Matilde Miguel, 20240549  <br>\n",
    "Nuno Sousa, 20222125  <br>\n",
    "Rafael Lopes, 20240588  <br>\n",
    "\n",
    "\n",
    "\n",
    "    \n",
    "</center>\n",
    "\n",
    "\n",
    "** **"
   ]
  },
  {
   "cell_type": "markdown",
   "id": "d738494c-37ae-4d07-bed3-29355b124eaa",
   "metadata": {},
   "source": [
    "# Interactive Dashboard Part 1\n",
    "\n",
    "This is the first part of our Dashboard"
   ]
  },
  {
   "cell_type": "code",
   "execution_count": 1,
   "id": "c39acf95-4b23-4709-bd21-597737e04bc4",
   "metadata": {},
   "outputs": [],
   "source": [
    "# need to install the package below\n",
    "#pip install ipywidgets voila\n",
    "import numpy as np\n",
    "import matplotlib.pyplot as plt\n",
    "\n",
    "import ipywidgets as widgets\n",
    "from IPython.display import display\n",
    "from IPython.display import clear_output"
   ]
  },
  {
   "cell_type": "markdown",
   "id": "eaaeae0d-30a4-4803-876a-ab2e13290503",
   "metadata": {},
   "source": [
    "upload the necessary data"
   ]
  },
  {
   "cell_type": "code",
   "execution_count": 2,
   "id": "88b689fb-6167-4ebf-a339-77964042dcd2",
   "metadata": {},
   "outputs": [],
   "source": [
    "%store -r best_model\n",
    "%store -r submission_df\n",
    "%store -r X_test"
   ]
  },
  {
   "cell_type": "code",
   "execution_count": 3,
   "id": "80f38b68-fb21-425d-8482-a5a93076403a",
   "metadata": {},
   "outputs": [],
   "source": [
    "# Set Claim Indentifier as index of X_test\n",
    "X_test = X_test.set_index(submission_df['Claim Identifier'])\n",
    "\n",
    "# Define it as input \n",
    "claim_identifier_input = widgets.IntText(description='Claim Identifier:', layout=widgets.Layout(width='60%'))\n",
    "\n",
    "# Output for displaying results\n",
    "output = widgets.Output()\n",
    "\n",
    "# CLAIM_TYPE_MAPPING dictionary (maps model output to readable claim type labels)\n",
    "CLAIM_TYPE_MAPPING = {\n",
    "    0: '1. CANCELLED',\n",
    "    1: '2. NON-COMP',\n",
    "    2: '3. MED ONLY',\n",
    "    3: '4. TEMPORARY',\n",
    "    4: '5. PPD SCH LOSS',\n",
    "    5: '6. PPD NSL',\n",
    "    6: '7. PTD',\n",
    "    7: '8. DEATH'\n",
    "}"
   ]
  },
  {
   "cell_type": "markdown",
   "id": "4d765b75-2e23-4e41-aa1f-e651deb314cf",
   "metadata": {},
   "source": [
    "Function to validate the Claim Identifier and make the prediction"
   ]
  },
  {
   "cell_type": "code",
   "execution_count": 4,
   "id": "89be1fcd-596c-42a5-85f3-ef358f01b7d1",
   "metadata": {},
   "outputs": [],
   "source": [
    "def validate_and_predict(change):\n",
    "    claim_identifier = claim_identifier_input.value\n",
    "    with output:\n",
    "        output.clear_output()  # Clears previous outputs\n",
    "        if claim_identifier not in X_test.index:\n",
    "            print(\"Not a valid Claim ID\")  # Handles invalid claims\n",
    "        else:\n",
    "            # Extract the features for the given claim identifier\n",
    "            customer_features = X_test.loc[[claim_identifier]]\n",
    "            \n",
    "            # Make prediction using the model\n",
    "            prediction = best_model.predict(customer_features)\n",
    "            \n",
    "            # Map the prediction to the corresponding claim type\n",
    "            predicted_class = prediction[0]\n",
    "            claim_type = CLAIM_TYPE_MAPPING.get(predicted_class, \"Unknown Class\")\n",
    "            \n",
    "            # Display the prediction result\n",
    "            print(f\"Prediction for Claim ID {claim_identifier}: {claim_type}\")\n",
    "            \n",
    "            # Show the prediction probabilities as a bar chart\n",
    "            display_prediction_probabilities(claim_identifier)"
   ]
  },
  {
   "cell_type": "markdown",
   "id": "0dbf9c16-c9a6-4d6e-bf37-a5c23b0b1395",
   "metadata": {},
   "source": [
    "Function to display prediction probabilities as a bar chart"
   ]
  },
  {
   "cell_type": "code",
   "execution_count": 5,
   "id": "b8550247-f237-4890-b423-6f2b90c1fce3",
   "metadata": {},
   "outputs": [],
   "source": [
    "def display_prediction_probabilities(claim_identifier):\n",
    "    if claim_identifier in X_test.index:\n",
    "        # Extract features for the claim\n",
    "        customer_features = X_test.loc[[claim_identifier]]\n",
    "        \n",
    "        # Gets our model predicted probabilities\n",
    "        probabilities = best_model.predict_proba(customer_features)[0]\n",
    "        classes = best_model.classes_\n",
    "        \n",
    "        # Map classes to right labels\n",
    "        class_labels = [CLAIM_TYPE_MAPPING.get(cls, f\"Class {cls}\") for cls in classes]\n",
    "        \n",
    "        # Plot probabilities\n",
    "        plt.figure(figsize=(8, 5))\n",
    "        plt.bar(class_labels, probabilities, color='skyblue')\n",
    "        plt.title(f\"Prediction Probabilities for Claim ID {claim_identifier}\")\n",
    "        plt.xlabel(\"Claim Type\")\n",
    "        plt.ylabel(\"Probability\")\n",
    "        plt.xticks(rotation=45, ha='right')\n",
    "        plt.tight_layout()\n",
    "        plt.show()\n",
    "    else:\n",
    "        print(\"Not a valid Claim ID\")"
   ]
  },
  {
   "cell_type": "markdown",
   "id": "6dc3ee68-aa0b-4e0d-abc6-e2de0093615e",
   "metadata": {},
   "source": [
    "First part of our dashboard"
   ]
  },
  {
   "cell_type": "code",
   "execution_count": 6,
   "id": "20a4b9a3-1a6a-4c53-86e9-61729b83c572",
   "metadata": {
    "scrolled": true
   },
   "outputs": [
    {
     "data": {
      "application/vnd.jupyter.widget-view+json": {
       "model_id": "80c4936075884f6d803eddb4572ebf60",
       "version_major": 2,
       "version_minor": 0
      },
      "text/plain": [
       "IntText(value=0, description='Claim Identifier:', layout=Layout(width='60%'))"
      ]
     },
     "metadata": {},
     "output_type": "display_data"
    },
    {
     "data": {
      "application/vnd.jupyter.widget-view+json": {
       "model_id": "5dc73a656dfd4306b3ceeaadc362dbf6",
       "version_major": 2,
       "version_minor": 0
      },
      "text/plain": [
       "Output()"
      ]
     },
     "metadata": {},
     "output_type": "display_data"
    }
   ],
   "source": [
    "# Try 6166042 for example\n",
    "\n",
    "# Attach event listener to the input widget\n",
    "claim_identifier_input.observe(validate_and_predict, names='value')\n",
    "\n",
    "# Display the claim identifier input and output area\n",
    "display(claim_identifier_input)\n",
    "display(output)"
   ]
  },
  {
   "cell_type": "code",
   "execution_count": null,
   "id": "838861f3-acde-4bde-9d2f-5309984cce15",
   "metadata": {},
   "outputs": [],
   "source": []
  }
 ],
 "metadata": {
  "kernelspec": {
   "display_name": "Python 3 (ipykernel)",
   "language": "python",
   "name": "python3"
  },
  "language_info": {
   "codemirror_mode": {
    "name": "ipython",
    "version": 3
   },
   "file_extension": ".py",
   "mimetype": "text/x-python",
   "name": "python",
   "nbconvert_exporter": "python",
   "pygments_lexer": "ipython3",
   "version": "3.11.9"
  }
 },
 "nbformat": 4,
 "nbformat_minor": 5
}
