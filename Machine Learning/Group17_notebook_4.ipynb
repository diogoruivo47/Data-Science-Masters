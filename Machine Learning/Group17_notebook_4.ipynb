{
 "cells": [
  {
   "cell_type": "markdown",
   "id": "fc70a343-19b9-416b-bc8b-f16996954145",
   "metadata": {},
   "source": [
    "# <center>Project of Machine Learning</center>\n",
    "\n",
    "<center>\n",
    "Master in Data Science and Advanced Analytics <br>\n",
    "NOVA Information Management School\n",
    "</center>\n",
    "\n",
    "** **\n",
    "## <center>*TO GRANT OR NOT TO GRANT: DECIDING ON COMPENSATION BENEFITS*</center>\n",
    "\n",
    "<center>\n",
    "Group 17 <br>\n",
    "Diogo Ruivo, 20240584  <br>\n",
    "José Tiago, 20240582  <br>\n",
    "Matilde Miguel, 20240549  <br>\n",
    "Nuno Sousa, 20222125  <br>\n",
    "Rafael Lopes, 20240588  <br>\n",
    "\n",
    "\n",
    "\n",
    "    \n",
    "</center>\n",
    "\n",
    "\n",
    "** **"
   ]
  },
  {
   "cell_type": "markdown",
   "id": "ab51850b-fa75-4727-89a1-1d67d7e42b6f",
   "metadata": {},
   "source": [
    "# Interactive Dashboard Part 2\n",
    "\n",
    "This is the second part of our Dashboard"
   ]
  },
  {
   "cell_type": "code",
   "execution_count": 1,
   "id": "3468c533-bc72-4f4a-9c18-647db58f5df2",
   "metadata": {},
   "outputs": [],
   "source": [
    "# need to install the package below\n",
    "#pip install ipywidgets voila\n",
    "import numpy as np\n",
    "import matplotlib.pyplot as plt\n",
    "\n",
    "import ipywidgets as widgets\n",
    "from IPython.display import display\n",
    "from IPython.display import clear_output"
   ]
  },
  {
   "cell_type": "markdown",
   "id": "d391fa39-94b4-46a0-b479-3cca15a38075",
   "metadata": {},
   "source": [
    "Upload the necessary data"
   ]
  },
  {
   "cell_type": "code",
   "execution_count": 2,
   "id": "d96c260e-7d2f-4ce0-9e47-39b15ea25c80",
   "metadata": {},
   "outputs": [],
   "source": [
    "%store -r best_model\n",
    "%store -r submission_df\n",
    "%store -r X_test"
   ]
  },
  {
   "cell_type": "code",
   "execution_count": 3,
   "id": "8376ce56-9f68-4f09-96c1-58c0a4331e4e",
   "metadata": {},
   "outputs": [],
   "source": [
    "# Set Claim Indentifier as index of X_test\n",
    "X_test = X_test.set_index(submission_df['Claim Identifier'])\n",
    "\n",
    "# Define it as input \n",
    "claim_identifier_input = widgets.IntText(description='Claim Identifier:', layout=widgets.Layout(width='60%'))\n",
    "\n",
    "# Output for displaying results\n",
    "output = widgets.Output()\n",
    "\n",
    "# CLAIM_TYPE_MAPPING dictionary (maps model output to readable claim type labels)\n",
    "CLAIM_TYPE_MAPPING = {\n",
    "    0: '1. CANCELLED',\n",
    "    1: '2. NON-COMP',\n",
    "    2: '3. MED ONLY',\n",
    "    3: '4. TEMPORARY',\n",
    "    4: '5. PPD SCH LOSS',\n",
    "    5: '6. PPD NSL',\n",
    "    6: '7. PTD',\n",
    "    7: '8. DEATH'\n",
    "}"
   ]
  },
  {
   "cell_type": "markdown",
   "id": "55c30efc-80f6-4239-8f72-2d2a97ad4730",
   "metadata": {},
   "source": [
    "Create sliders based on the columns of X_test"
   ]
  },
  {
   "cell_type": "code",
   "execution_count": 4,
   "id": "36bf5704-5ef0-4c5c-a27a-77ba10455f5f",
   "metadata": {},
   "outputs": [],
   "source": [
    "feature_sliders = {}\n",
    "for column in X_test.columns:\n",
    "    # As we scaled the data using standard scaler\n",
    "    # we use range -3 and 3 as it contains most of the data\n",
    "    slider = widgets.FloatSlider(\n",
    "        value=0.0,  \n",
    "        min=-3.0,   \n",
    "        max=3.0,   \n",
    "        step=0.01,  \n",
    "        description=column\n",
    "    )\n",
    "    feature_sliders[column] = slider\n"
   ]
  },
  {
   "cell_type": "markdown",
   "id": "c3cabecd-3c4a-40ed-9736-ee410a7d4743",
   "metadata": {},
   "source": [
    "Function that predicts the result of our model for the slider values"
   ]
  },
  {
   "cell_type": "code",
   "execution_count": 5,
   "id": "d7ca766a-8b67-4229-a561-3d03cc7ac487",
   "metadata": {},
   "outputs": [],
   "source": [
    "def simulate_prediction(change):\n",
    "    # Collect all slider values\n",
    "    feature_values = np.array([slider.value for slider in feature_sliders.values()]).reshape(1, -1)\n",
    "    \n",
    "    # Get the prediction from the model\n",
    "    prediction = best_model.predict(feature_values)\n",
    "    claim_type = CLAIM_TYPE_MAPPING.get(prediction[0], \"Unknown Class\")\n",
    "    \n",
    "    # Display the prediction\n",
    "    with output:\n",
    "        output.clear_output()\n",
    "        print(f\"Prediction: {claim_type}\")"
   ]
  },
  {
   "cell_type": "markdown",
   "id": "6dd0224c-9991-44ac-ad3b-fb3b1c23425d",
   "metadata": {},
   "source": [
    "Second part of our dashboard"
   ]
  },
  {
   "cell_type": "code",
   "execution_count": 6,
   "id": "fa54ed1c-1c0c-4c69-ad36-64896b208f3b",
   "metadata": {},
   "outputs": [
    {
     "data": {
      "application/vnd.jupyter.widget-view+json": {
       "model_id": "f5ca89756cd14ff6874137e8bfc957c2",
       "version_major": 2,
       "version_minor": 0
      },
      "text/plain": [
       "VBox(children=(FloatSlider(value=0.0, description='Age at Injury', max=3.0, min=-3.0, step=0.01), FloatSlider(…"
      ]
     },
     "metadata": {},
     "output_type": "display_data"
    },
    {
     "data": {
      "application/vnd.jupyter.widget-view+json": {
       "model_id": "ad7980caa9754ea09722aaa677973147",
       "version_major": 2,
       "version_minor": 0
      },
      "text/plain": [
       "Output()"
      ]
     },
     "metadata": {},
     "output_type": "display_data"
    }
   ],
   "source": [
    "# Output area for displaying results\n",
    "output = widgets.Output()\n",
    "\n",
    "# Link sliders to the simulate prediction function\n",
    "for slider in feature_sliders.values():\n",
    "    slider.observe(simulate_prediction, names=\"value\")\n",
    "\n",
    "# Display sliders and output area\n",
    "display(widgets.VBox(list(feature_sliders.values())))\n",
    "display(output)"
   ]
  },
  {
   "cell_type": "code",
   "execution_count": null,
   "id": "6f740a7a-87f3-4b28-a20f-6fdcd5586a3f",
   "metadata": {},
   "outputs": [],
   "source": []
  }
 ],
 "metadata": {
  "kernelspec": {
   "display_name": "Python 3 (ipykernel)",
   "language": "python",
   "name": "python3"
  },
  "language_info": {
   "codemirror_mode": {
    "name": "ipython",
    "version": 3
   },
   "file_extension": ".py",
   "mimetype": "text/x-python",
   "name": "python",
   "nbconvert_exporter": "python",
   "pygments_lexer": "ipython3",
   "version": "3.11.9"
  }
 },
 "nbformat": 4,
 "nbformat_minor": 5
}
